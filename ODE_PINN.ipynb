{
 "cells": [
  {
   "cell_type": "markdown",
   "id": "36ff6858-1425-4b6e-a32d-624579d147cb",
   "metadata": {},
   "source": [
    "# Solving an ODE\n",
    "\n",
    "$$\n",
    "\\begin{aligned}\n",
    "y'(x) &= -2y(x)+2x^2+2x\\\\\n",
    "y(0) &= 1 \\\\\n",
    "0 \\le x & \\le 0.5\n",
    "\\end{aligned}"
   ]
  },
  {
   "cell_type": "markdown",
   "id": "d09b257e",
   "metadata": {},
   "source": [
    "The exact solution:\n",
    "$$\n",
    "y(x) = e^{-2x}+x^2\n",
    "$$"
   ]
  },
  {
   "cell_type": "code",
   "execution_count": 1,
   "id": "f821bd44-3437-4584-9d0f-2a4da7a77635",
   "metadata": {},
   "outputs": [],
   "source": [
    "# install pytorch\n",
    "import torch\n",
    "from torch import nn, optim\n",
    "import matplotlib.pyplot as plt\n",
    "import numpy as np\n"
   ]
  },
  {
   "cell_type": "code",
   "execution_count": 2,
   "id": "485012d7-b6e8-4429-bf1d-fdbcd0a946de",
   "metadata": {},
   "outputs": [
    {
     "name": "stdout",
     "output_type": "stream",
     "text": [
      "torch.Size([100])\n",
      "torch.Size([100, 1])\n"
     ]
    }
   ],
   "source": [
    "# Define input x\n",
    "x = torch.linspace(0, 0.5, 100, requires_grad=True)\n",
    "\n",
    "print(x.shape)\n",
    "x = x.reshape(-1, 1)\n",
    "print(x.shape)"
   ]
  },
  {
   "cell_type": "code",
   "execution_count": 3,
   "id": "7ba0362d-6f61-4ef7-8f59-650b552a2ac6",
   "metadata": {},
   "outputs": [],
   "source": [
    "# Define an Neural Network as differential equation y(x).\n",
    "# Input x, output y\n",
    "mlp = nn.Sequential(\n",
    "    nn.Linear(1, 10),\n",
    "    nn.Tanh(),\n",
    "    nn.Linear(10, 20),\n",
    "    nn.Tanh(),\n",
    "    nn.Linear(20, 1),\n",
    ")"
   ]
  },
  {
   "cell_type": "code",
   "execution_count": 4,
   "id": "cbd2b1ce-40ee-4e8d-af5d-4b9b4814b8f0",
   "metadata": {},
   "outputs": [],
   "source": [
    "# optimizer to tune NN\n",
    "optimizer = optim.Adam(list(mlp.parameters()), lr=0.001)"
   ]
  },
  {
   "cell_type": "code",
   "execution_count": 5,
   "id": "2345a65a-cfb2-407e-b633-a2415d02ce29",
   "metadata": {},
   "outputs": [],
   "source": [
    "# Define an order of the NN, i.e., dy/dx\n",
    "def dy_dx(y, x):\n",
    "    return torch.autograd.grad(\n",
    "        y, x, grad_outputs=torch.ones_like(y), create_graph=True\n",
    "    )[0]"
   ]
  },
  {
   "cell_type": "code",
   "execution_count": 6,
   "id": "aa165b2d-ad27-41ac-bdec-a881958b7b30",
   "metadata": {},
   "outputs": [
    {
     "name": "stdout",
     "output_type": "stream",
     "text": [
      "Epoch   0: Current loss: 2.88e+00\n",
      "Epoch  10: Current loss: 1.83e+00\n",
      "Epoch  20: Current loss: 1.13e+00\n",
      "Epoch  30: Current loss: 7.45e-01\n",
      "Epoch  40: Current loss: 5.92e-01\n",
      "Epoch  50: Current loss: 5.49e-01\n",
      "Epoch  60: Current loss: 5.32e-01\n",
      "Epoch  70: Current loss: 5.18e-01\n",
      "Epoch  80: Current loss: 5.07e-01\n",
      "Epoch  90: Current loss: 5.01e-01\n",
      "Epoch 100: Current loss: 4.97e-01\n",
      "Epoch 110: Current loss: 4.93e-01\n",
      "Epoch 120: Current loss: 4.89e-01\n",
      "Epoch 130: Current loss: 4.86e-01\n",
      "Epoch 140: Current loss: 4.83e-01\n",
      "Epoch 150: Current loss: 4.80e-01\n",
      "Epoch 160: Current loss: 4.77e-01\n",
      "Epoch 170: Current loss: 4.74e-01\n",
      "Epoch 180: Current loss: 4.71e-01\n",
      "Epoch 190: Current loss: 4.68e-01\n",
      "Epoch 200: Current loss: 4.65e-01\n",
      "Epoch 210: Current loss: 4.62e-01\n",
      "Epoch 220: Current loss: 4.60e-01\n",
      "Epoch 230: Current loss: 4.57e-01\n",
      "Epoch 240: Current loss: 4.54e-01\n",
      "Epoch 250: Current loss: 4.51e-01\n",
      "Epoch 260: Current loss: 4.48e-01\n",
      "Epoch 270: Current loss: 4.45e-01\n",
      "Epoch 280: Current loss: 4.42e-01\n",
      "Epoch 290: Current loss: 4.39e-01\n",
      "Epoch 300: Current loss: 4.36e-01\n",
      "Epoch 310: Current loss: 4.33e-01\n",
      "Epoch 320: Current loss: 4.30e-01\n",
      "Epoch 330: Current loss: 4.26e-01\n",
      "Epoch 340: Current loss: 4.23e-01\n",
      "Epoch 350: Current loss: 4.19e-01\n",
      "Epoch 360: Current loss: 4.15e-01\n",
      "Epoch 370: Current loss: 4.11e-01\n",
      "Epoch 380: Current loss: 4.07e-01\n",
      "Epoch 390: Current loss: 4.02e-01\n",
      "Epoch 400: Current loss: 3.97e-01\n",
      "Epoch 410: Current loss: 3.92e-01\n",
      "Epoch 420: Current loss: 3.86e-01\n",
      "Epoch 430: Current loss: 3.80e-01\n",
      "Epoch 440: Current loss: 3.73e-01\n",
      "Epoch 450: Current loss: 3.65e-01\n",
      "Epoch 460: Current loss: 3.57e-01\n",
      "Epoch 470: Current loss: 3.48e-01\n",
      "Epoch 480: Current loss: 3.37e-01\n",
      "Epoch 490: Current loss: 3.26e-01\n"
     ]
    }
   ],
   "source": [
    "losses = []\n",
    "\n",
    "for i in range(500):\n",
    "    y = mlp.forward(x)\n",
    "    y_p = dy_dx(y, x)\n",
    "\n",
    "\n",
    "    # y'=-2y+2x^2+2x\n",
    "    residual = y_p - (-2*y+2*x**2+2*x)\n",
    "\n",
    "    initial = y[0] - 1\n",
    "\n",
    "    loss = (residual**2).mean() + initial**2\n",
    "\n",
    "    optimizer.zero_grad()\n",
    "    loss.backward()\n",
    "    optimizer.step()\n",
    "\n",
    "    losses.append(loss.detach().numpy()[0])\n",
    "\n",
    "    if i % 10 == 0:\n",
    "        print(\"Epoch %3d: Current loss: %.2e\" % (i, losses[-1]))"
   ]
  },
  {
   "cell_type": "code",
   "execution_count": 7,
   "id": "312194d7-9c86-486a-99ff-5258ba31c5f3",
   "metadata": {},
   "outputs": [
    {
     "name": "stdout",
     "output_type": "stream",
     "text": [
      "Mean Absolute Error: 8.23e-02\n"
     ]
    }
   ],
   "source": [
    "x_test = torch.linspace(0, 0.5, 31).reshape(-1, 1)\n",
    "# The exact symbolic solution\n",
    "exact = torch.exp(-2*x_test)+x_test**2\n",
    "# The PINN prediction\n",
    "predict = mlp.forward(x_test).detach().numpy()\n",
    "error = exact - predict\n",
    "\n",
    "MAE = torch.abs(error).mean()\n",
    "\n",
    "print(\"Mean Absolute Error: %.2e\" % MAE)"
   ]
  },
  {
   "cell_type": "code",
   "execution_count": null,
   "id": "f4f7658a-ad72-4214-9578-a48630831bb1",
   "metadata": {},
   "outputs": [],
   "source": [
    "\n",
    "fig, axs = plt.subplots(1, 3, figsize=(15, 5))\n",
    "\n",
    "axs[0].plot(x_test, exact, \"g-\", label=\"Exact\")\n",
    "axs[0].plot(x_test, predict, \"r.\", label=\"Predict\")\n",
    "\n",
    "axs[1].plot(x_test, error, \"b\", label=\"Residual\")\n",
    "\n",
    "axs[2].plot(np.log10(losses), \"c\", label=\"Loss\")\n",
    "\n",
    "for ax in axs:\n",
    "    ax.set_xlabel(\"$x$\")\n",
    "    ax.set_ylabel(\"$y(x)$\")\n",
    "    ax.legend()"
   ]
  },
  {
   "cell_type": "code",
   "execution_count": null,
   "id": "55724e62-7a92-4fc6-a9d9-c1a586eb37f5",
   "metadata": {},
   "outputs": [],
   "source": []
  }
 ],
 "metadata": {
  "kernelspec": {
   "display_name": "tool",
   "language": "python",
   "name": "python3"
  },
  "language_info": {
   "codemirror_mode": {
    "name": "ipython",
    "version": 3
   },
   "file_extension": ".py",
   "mimetype": "text/x-python",
   "name": "python",
   "nbconvert_exporter": "python",
   "pygments_lexer": "ipython3",
   "version": "3.10.16"
  }
 },
 "nbformat": 4,
 "nbformat_minor": 5
}
